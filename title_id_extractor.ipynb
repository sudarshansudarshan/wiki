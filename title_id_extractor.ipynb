{
  "nbformat": 4,
  "nbformat_minor": 0,
  "metadata": {
    "colab": {
      "provenance": [],
      "authorship_tag": "ABX9TyPmkj9THpcPbT41enINdaDo",
      "include_colab_link": true
    },
    "kernelspec": {
      "name": "python3",
      "display_name": "Python 3"
    },
    "language_info": {
      "name": "python"
    }
  },
  "cells": [
    {
      "cell_type": "markdown",
      "metadata": {
        "id": "view-in-github",
        "colab_type": "text"
      },
      "source": [
        "<a href=\"https://colab.research.google.com/github/sudarshansudarshan/wiki/blob/main/title_id_extractor.ipynb\" target=\"_parent\"><img src=\"https://colab.research.google.com/assets/colab-badge.svg\" alt=\"Open In Colab\"/></a>"
      ]
    },
    {
      "cell_type": "code",
      "execution_count": 77,
      "metadata": {
        "id": "QFlgXEmxScpn"
      },
      "outputs": [],
      "source": [
        "import csv\n",
        "def get_page_ids(page_titles):\n",
        "    import requests\n",
        "    from requests import utils\n",
        "\n",
        "    page_titles_encoded = [requests.utils.quote(x) for x in page_titles]\n",
        "\n",
        "    url = ('https://en.wikipedia.org/w/api.php''?action=query''&prop=info''&inprop=subjectid''&titles=' + '|'.join(page_titles_encoded) +'&format=json')\n",
        "    \n",
        "    json_response = requests.get(url).json()\n",
        " \n",
        "\n",
        "    page_normalized_titles = {x:x for x in page_titles}\n",
        "    result = {}\n",
        "    if 'normalized' in json_response['query']:\n",
        "        for mapping in json_response['query']['normalized']:\n",
        "            page_normalized_titles[mapping['to']] = mapping['from']\n",
        "\n",
        "    for page_id, page_info in json_response['query']['pages'].items():\n",
        "        normalized_title = page_info['title']\n",
        "        page_title = page_normalized_titles[normalized_title]  \n",
        "        result[page_title] = page_id\n",
        "\n",
        "    return result\n",
        "\n",
        "page_titles = ['Mumbai', 'Delhi', 'Bangalore', 'Hyderabad', 'Ahmedabad', 'Chennai', 'Kolkata', 'Surat', 'Pune', 'Jaipur', 'Lucknow', 'Kanpur', 'Nagpur', 'Indore', 'Thane', 'Bhopal', 'Visakhapatnam', 'Pimpri-Chinchwad', 'Patna', 'Vadodara', 'Ghaziabad', 'Ludhiana', 'Agra', 'Nashik', 'Faridabad', 'Meerut', 'Rajkot', 'Kalyan-Dombivli', 'Vasai-Virar', 'Varanasi', 'Srinagar', 'Aurangabad', 'Dhanbad', 'Amritsar', 'Navi Mumbai', 'Allahabad', 'Howrah', 'Ranchi', 'Gwalior', 'Jabalpur', 'Coimbatore', 'Vijayawada', 'Jodhpur', 'Madurai', 'Raipur', 'Kota', 'Chandigarh', 'Guwahati', 'Solapur', 'Hubli–Dharwad' ]\n",
        "\n",
        "x=get_page_ids(page_titles)\n",
        "with open('articles.csv', 'w') as f:\n",
        "    for key in x.keys():\n",
        "        f.write(\"%s, %s\\n\" % (key, x[key]))\n"
      ]
    },
    {
      "cell_type": "code",
      "source": [
        "\n",
        "\n",
        "\n"
      ],
      "metadata": {
        "id": "AP3HberYcwcu"
      },
      "execution_count": 75,
      "outputs": []
    }
  ]
}